{
  "nbformat": 4,
  "nbformat_minor": 0,
  "metadata": {
    "colab": {
      "name": "stop_words.ipynb",
      "provenance": [],
      "authorship_tag": "ABX9TyOfDJowv64tVetZeA0TqO20"
    },
    "kernelspec": {
      "name": "python3",
      "display_name": "Python 3"
    },
    "language_info": {
      "name": "python"
    }
  },
  "cells": [
    {
      "cell_type": "markdown",
      "source": [
        "> Importing required modules"
      ],
      "metadata": {
        "id": "U1PWXTpih5hJ"
      }
    },
    {
      "cell_type": "code",
      "source": [
        "import nltk\n",
        "from nltk.corpus import stopwords\n",
        "nltk.download('stopwords')\n",
        "from nltk.tokenize import word_tokenize\n",
        "nltk.download('punkt')"
      ],
      "metadata": {
        "colab": {
          "base_uri": "https://localhost:8080/"
        },
        "id": "1qRIIwymikW5",
        "outputId": "c848922d-70c7-4988-a971-1339c4dde2d2"
      },
      "execution_count": 11,
      "outputs": [
        {
          "output_type": "stream",
          "name": "stderr",
          "text": [
            "[nltk_data] Downloading package stopwords to /root/nltk_data...\n",
            "[nltk_data]   Package stopwords is already up-to-date!\n",
            "[nltk_data] Downloading package punkt to /root/nltk_data...\n",
            "[nltk_data]   Unzipping tokenizers/punkt.zip.\n"
          ]
        },
        {
          "output_type": "execute_result",
          "data": {
            "text/plain": [
              "True"
            ]
          },
          "metadata": {},
          "execution_count": 11
        }
      ]
    },
    {
      "cell_type": "markdown",
      "source": [
        "> Removing Stop words"
      ],
      "metadata": {
        "id": "-7b04DiLl3gO"
      }
    },
    {
      "cell_type": "code",
      "source": [
        "data = 'The chapters of Yotsuba&!, a manga series written and drawn by Kiyohiko Azuma and published in Japan by ASCII Media Works, have been collected in fifteen tankōbon volumes, with further chapters appearing in the monthly magazine Dengeki Daioh to be collected in tankōbon format over time. Yotsuba&! follows the daily life of a young girl named Yotsuba Koiwai and her adoptive father, with each chapter taking place on a specific, nearly sequential day of a common year starting on Wednesday. The series was licensed in English by ADV Manga, with five volumes published. Yen Press announced at the 2009 New York Comic Con that they had acquired the North American license for the English release of the manga; volume six was released in September 2009 with new translations of the first five volumes, and later volumes to follow. '\n",
        "\n",
        "tokenLst = word_tokenize(data)\n",
        "stopWords = set(stopwords.words('english'))\n",
        "\n",
        "resultantData = []\n",
        "\n",
        "for token in tokenLst:\n",
        "  if token.lower() not in stopWords:\n",
        "    resultantData.append(token)\n",
        "\n",
        "print(data,'\\n')\n",
        "print(' '.join(resultantData))\n",
        "\n"
      ],
      "metadata": {
        "colab": {
          "base_uri": "https://localhost:8080/"
        },
        "id": "R1k93X02jL0b",
        "outputId": "85be1332-49a0-4c60-9bd5-48c7e30dbe99"
      },
      "execution_count": 16,
      "outputs": [
        {
          "output_type": "stream",
          "name": "stdout",
          "text": [
            "The chapters of Yotsuba&!, a manga series written and drawn by Kiyohiko Azuma and published in Japan by ASCII Media Works, have been collected in fifteen tankōbon volumes, with further chapters appearing in the monthly magazine Dengeki Daioh to be collected in tankōbon format over time. Yotsuba&! follows the daily life of a young girl named Yotsuba Koiwai and her adoptive father, with each chapter taking place on a specific, nearly sequential day of a common year starting on Wednesday. The series was licensed in English by ADV Manga, with five volumes published. Yen Press announced at the 2009 New York Comic Con that they had acquired the North American license for the English release of the manga; volume six was released in September 2009 with new translations of the first five volumes, and later volumes to follow.  \n",
            "\n",
            "chapters Yotsuba & ! , manga series written drawn Kiyohiko Azuma published Japan ASCII Media Works , collected fifteen tankōbon volumes , chapters appearing monthly magazine Dengeki Daioh collected tankōbon format time . Yotsuba & ! follows daily life young girl named Yotsuba Koiwai adoptive father , chapter taking place specific , nearly sequential day common year starting Wednesday . series licensed English ADV Manga , five volumes published . Yen Press announced 2009 New York Comic Con acquired North American license English release manga ; volume six released September 2009 new translations first five volumes , later volumes follow .\n"
          ]
        }
      ]
    }
  ]
}
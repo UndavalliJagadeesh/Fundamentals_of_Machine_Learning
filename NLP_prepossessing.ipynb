{
  "nbformat": 4,
  "nbformat_minor": 0,
  "metadata": {
    "colab": {
      "name": "NLP_prepossessing.ipynb",
      "provenance": [],
      "collapsed_sections": [
        "PUvnUuOvVlwd",
        "Aj2Hip4cWXh2",
        "cQw05hlIWfcj"
      ],
      "authorship_tag": "ABX9TyNQrpTNkK4KQNR5lV5yfuLf"
    },
    "kernelspec": {
      "name": "python3",
      "display_name": "Python 3"
    },
    "language_info": {
      "name": "python"
    }
  },
  "cells": [
    {
      "cell_type": "markdown",
      "source": [
        "## ***Tokenization***\n",
        "\n",
        "---"
      ],
      "metadata": {
        "id": "PUvnUuOvVlwd"
      }
    },
    {
      "cell_type": "code",
      "source": [
        "text = \"APIs for manipulating documents loaded into the browser. The most obvious example is the DOM (Document Object Model) API, which allows you to manipulate HTML and CSS — creating, removing and changing HTML, dynamically applying new styles to your page, etc. Every time you see a popup window appear on a page or some new content displayed, for example, that's the DOM in action. Find out more about these types of API in Manipulating documents.\""
      ],
      "metadata": {
        "id": "BgCCHZqgVuaB"
      },
      "execution_count": 1,
      "outputs": []
    },
    {
      "cell_type": "markdown",
      "source": [
        "> **Using inbuild split() method**"
      ],
      "metadata": {
        "id": "wfpvH0u-V0i5"
      }
    },
    {
      "cell_type": "code",
      "source": [
        "# Using inbuild split method\n",
        "\n",
        "words = text.split()\n",
        "print(words)\n",
        "print('Number of Words :', len(words),'\\n')\n",
        "\n",
        "sentences = text.split('.')\n",
        "print(sentences)\n",
        "print('Number of Sentences : ',len(sentences),'\\n')"
      ],
      "metadata": {
        "colab": {
          "base_uri": "https://localhost:8080/"
        },
        "id": "JKiJbpNbVyYa",
        "outputId": "2943697f-6e96-466c-cf7b-26bf96535a9f"
      },
      "execution_count": 2,
      "outputs": [
        {
          "output_type": "stream",
          "name": "stdout",
          "text": [
            "['APIs', 'for', 'manipulating', 'documents', 'loaded', 'into', 'the', 'browser.', 'The', 'most', 'obvious', 'example', 'is', 'the', 'DOM', '(Document', 'Object', 'Model)', 'API,', 'which', 'allows', 'you', 'to', 'manipulate', 'HTML', 'and', 'CSS', '—', 'creating,', 'removing', 'and', 'changing', 'HTML,', 'dynamically', 'applying', 'new', 'styles', 'to', 'your', 'page,', 'etc.', 'Every', 'time', 'you', 'see', 'a', 'popup', 'window', 'appear', 'on', 'a', 'page', 'or', 'some', 'new', 'content', 'displayed,', 'for', 'example,', \"that's\", 'the', 'DOM', 'in', 'action.', 'Find', 'out', 'more', 'about', 'these', 'types', 'of', 'API', 'in', 'Manipulating', 'documents.']\n",
            "Number of Words : 75 \n",
            "\n",
            "['APIs for manipulating documents loaded into the browser', ' The most obvious example is the DOM (Document Object Model) API, which allows you to manipulate HTML and CSS — creating, removing and changing HTML, dynamically applying new styles to your page, etc', \" Every time you see a popup window appear on a page or some new content displayed, for example, that's the DOM in action\", ' Find out more about these types of API in Manipulating documents', '']\n",
            "Number of Sentences :  5 \n",
            "\n"
          ]
        }
      ]
    },
    {
      "cell_type": "markdown",
      "source": [
        "> **Using RegEx module**"
      ],
      "metadata": {
        "id": "AZIsz7NiV9Zc"
      }
    },
    {
      "cell_type": "code",
      "source": [
        "# Using RegEx module\n",
        "\n",
        "import re\n",
        "\n",
        "words = re.findall(\"[\\w']+\",text)\n",
        "word = re.findall(\"[\\w]+\",text)\n",
        "print(words)\n",
        "print('Number of Words :',len(words),'\\n')\n",
        "\n",
        "sentences = re.compile('[$.?!] ').split(text)\n",
        "print(sentences)\n",
        "print('Number of Sentences :',len(sentences),'\\n')"
      ],
      "metadata": {
        "colab": {
          "base_uri": "https://localhost:8080/"
        },
        "id": "VYx3sxtxV-NN",
        "outputId": "127c3250-0725-4cff-cd1c-5643bca0bd3d"
      },
      "execution_count": 3,
      "outputs": [
        {
          "output_type": "stream",
          "name": "stdout",
          "text": [
            "['APIs', 'for', 'manipulating', 'documents', 'loaded', 'into', 'the', 'browser', 'The', 'most', 'obvious', 'example', 'is', 'the', 'DOM', 'Document', 'Object', 'Model', 'API', 'which', 'allows', 'you', 'to', 'manipulate', 'HTML', 'and', 'CSS', 'creating', 'removing', 'and', 'changing', 'HTML', 'dynamically', 'applying', 'new', 'styles', 'to', 'your', 'page', 'etc', 'Every', 'time', 'you', 'see', 'a', 'popup', 'window', 'appear', 'on', 'a', 'page', 'or', 'some', 'new', 'content', 'displayed', 'for', 'example', \"that's\", 'the', 'DOM', 'in', 'action', 'Find', 'out', 'more', 'about', 'these', 'types', 'of', 'API', 'in', 'Manipulating', 'documents']\n",
            "Number of Words : 74 \n",
            "\n",
            "['APIs for manipulating documents loaded into the browser', 'The most obvious example is the DOM (Document Object Model) API, which allows you to manipulate HTML and CSS — creating, removing and changing HTML, dynamically applying new styles to your page, etc', \"Every time you see a popup window appear on a page or some new content displayed, for example, that's the DOM in action\", 'Find out more about these types of API in Manipulating documents.']\n",
            "Number of Sentences : 4 \n",
            "\n"
          ]
        }
      ]
    },
    {
      "cell_type": "markdown",
      "source": [
        "> **Using NLTK module**"
      ],
      "metadata": {
        "id": "gfev3pLsWEN2"
      }
    },
    {
      "cell_type": "code",
      "source": [
        "import nltk"
      ],
      "metadata": {
        "id": "bsvZgyXcWB-j"
      },
      "execution_count": 4,
      "outputs": []
    },
    {
      "cell_type": "code",
      "source": [
        "nltk.download('punkt')"
      ],
      "metadata": {
        "colab": {
          "base_uri": "https://localhost:8080/"
        },
        "id": "jmfI-ZA1WMcz",
        "outputId": "43ed251e-0cc0-4566-8fc7-cdd37e69f82a"
      },
      "execution_count": 5,
      "outputs": [
        {
          "output_type": "stream",
          "name": "stderr",
          "text": [
            "[nltk_data] Downloading package punkt to /root/nltk_data...\n",
            "[nltk_data]   Unzipping tokenizers/punkt.zip.\n"
          ]
        },
        {
          "output_type": "execute_result",
          "data": {
            "text/plain": [
              "True"
            ]
          },
          "metadata": {},
          "execution_count": 5
        }
      ]
    },
    {
      "cell_type": "code",
      "source": [
        "# Using NLTK module\n",
        "\n",
        "from nltk.tokenize import word_tokenize, sent_tokenize\n",
        "words = word_tokenize(text)\n",
        "print(words)\n",
        "print('Number of Words :',len(words),'\\n')\n",
        "\n",
        "sentences = sent_tokenize(text)\n",
        "print(sentences)\n",
        "print('Number of Sentences :',len(sentences),'\\n')"
      ],
      "metadata": {
        "colab": {
          "base_uri": "https://localhost:8080/"
        },
        "id": "JGRQ2EsJWIdQ",
        "outputId": "b6fbb277-d373-4e1e-d946-c0829aa17d0c"
      },
      "execution_count": 6,
      "outputs": [
        {
          "output_type": "stream",
          "name": "stdout",
          "text": [
            "['APIs', 'for', 'manipulating', 'documents', 'loaded', 'into', 'the', 'browser', '.', 'The', 'most', 'obvious', 'example', 'is', 'the', 'DOM', '(', 'Document', 'Object', 'Model', ')', 'API', ',', 'which', 'allows', 'you', 'to', 'manipulate', 'HTML', 'and', 'CSS', '—', 'creating', ',', 'removing', 'and', 'changing', 'HTML', ',', 'dynamically', 'applying', 'new', 'styles', 'to', 'your', 'page', ',', 'etc', '.', 'Every', 'time', 'you', 'see', 'a', 'popup', 'window', 'appear', 'on', 'a', 'page', 'or', 'some', 'new', 'content', 'displayed', ',', 'for', 'example', ',', 'that', \"'s\", 'the', 'DOM', 'in', 'action', '.', 'Find', 'out', 'more', 'about', 'these', 'types', 'of', 'API', 'in', 'Manipulating', 'documents', '.']\n",
            "Number of Words : 88 \n",
            "\n",
            "['APIs for manipulating documents loaded into the browser.', 'The most obvious example is the DOM (Document Object Model) API, which allows you to manipulate HTML and CSS — creating, removing and changing HTML, dynamically applying new styles to your page, etc.', \"Every time you see a popup window appear on a page or some new content displayed, for example, that's the DOM in action.\", 'Find out more about these types of API in Manipulating documents.']\n",
            "Number of Sentences : 4 \n",
            "\n"
          ]
        }
      ]
    },
    {
      "cell_type": "markdown",
      "source": [
        "##  ***Stemming***\n",
        "\n",
        "\n",
        "***\n",
        "\n"
      ],
      "metadata": {
        "id": "Aj2Hip4cWXh2"
      }
    },
    {
      "cell_type": "code",
      "source": [
        "from nltk.stem import PorterStemmer\n",
        "from nltk.tokenize import word_tokenize\n",
        "\n",
        "porter = PorterStemmer()\n",
        "\n",
        "def stemmer(para):\n",
        "    stemmed_lst=[]\n",
        "    tokenLst = word_tokenize(para)\n",
        "    for token in tokenLst:\n",
        "        stemmed_lst.append(porter.stem(token))\n",
        "    return ' '.join(stemmed_lst)\n",
        "\n",
        "stemmed_sentence = stemmer(text)\n",
        "\n",
        "print('Original Text: \\n{0}\\nCount:{1}\\n'.format(text,len(text)))\n",
        "print('Stemmed Sentence: \\n{0}\\nCount:{1}\\n'.format(stemmed_sentence,len(stemmed_sentence)))"
      ],
      "metadata": {
        "colab": {
          "base_uri": "https://localhost:8080/"
        },
        "id": "Wo5FzOdWWYSP",
        "outputId": "78664757-e4b5-4970-f7a6-2f49fa05b3ec"
      },
      "execution_count": 7,
      "outputs": [
        {
          "output_type": "stream",
          "name": "stdout",
          "text": [
            "Original Text: \n",
            "APIs for manipulating documents loaded into the browser. The most obvious example is the DOM (Document Object Model) API, which allows you to manipulate HTML and CSS — creating, removing and changing HTML, dynamically applying new styles to your page, etc. Every time you see a popup window appear on a page or some new content displayed, for example, that's the DOM in action. Find out more about these types of API in Manipulating documents.\n",
            "Count:443\n",
            "\n",
            "Stemmed Sentence: \n",
            "api for manipul document load into the browser . the most obviou exampl is the dom ( document object model ) api , which allow you to manipul html and css — creat , remov and chang html , dynam appli new style to your page , etc . everi time you see a popup window appear on a page or some new content display , for exampl , that 's the dom in action . find out more about these type of api in manipul document .\n",
            "Count:412\n",
            "\n"
          ]
        }
      ]
    },
    {
      "cell_type": "markdown",
      "source": [
        "## ***Lemmatization***\n",
        "\n",
        "\n",
        "***"
      ],
      "metadata": {
        "id": "cQw05hlIWfcj"
      }
    },
    {
      "cell_type": "code",
      "source": [
        "nltk.download('wordnet')"
      ],
      "metadata": {
        "colab": {
          "base_uri": "https://localhost:8080/"
        },
        "id": "ixQo2otaWjrT",
        "outputId": "01932f59-6620-40d2-c845-109c2da8408d"
      },
      "execution_count": 8,
      "outputs": [
        {
          "output_type": "stream",
          "name": "stderr",
          "text": [
            "[nltk_data] Downloading package wordnet to /root/nltk_data...\n",
            "[nltk_data]   Unzipping corpora/wordnet.zip.\n"
          ]
        },
        {
          "output_type": "execute_result",
          "data": {
            "text/plain": [
              "True"
            ]
          },
          "metadata": {},
          "execution_count": 8
        }
      ]
    },
    {
      "cell_type": "code",
      "source": [
        "import nltk\n",
        "nltk.download('omw-1.4')"
      ],
      "metadata": {
        "colab": {
          "base_uri": "https://localhost:8080/"
        },
        "id": "kRmP-OMWfRCM",
        "outputId": "64bc2396-727d-41f5-ac00-6d13c59ca075"
      },
      "execution_count": 11,
      "outputs": [
        {
          "output_type": "stream",
          "name": "stderr",
          "text": [
            "[nltk_data] Downloading package omw-1.4 to /root/nltk_data...\n",
            "[nltk_data]   Unzipping corpora/omw-1.4.zip.\n"
          ]
        },
        {
          "output_type": "execute_result",
          "data": {
            "text/plain": [
              "True"
            ]
          },
          "metadata": {},
          "execution_count": 11
        }
      ]
    },
    {
      "cell_type": "code",
      "source": [
        "from nltk.stem import WordNetLemmatizer\n",
        "from nltk.tokenize import word_tokenize\n",
        "\n",
        "wordnet_lemmat = WordNetLemmatizer()\n",
        "\n",
        "def lemmatizer(para):\n",
        "    lemmatLst = []\n",
        "    tokenLst = word_tokenize(para)\n",
        "    for token in tokenLst:\n",
        "        lemmatLst.append(wordnet_lemmat.lemmatize(token))\n",
        "    return ' '.join(lemmatLst)\n",
        "\n",
        "lemmatized_sentence = lemmatizer(text)\n",
        "\n",
        "print('Original Text: \\n{0}\\nCount:{1}\\n'.format(text,len(text)))\n",
        "print('Lemmatized Sentence : \\n{0}\\nCount:{1}\\n'.format(lemmatized_sentence,len(lemmatized_sentence)))"
      ],
      "metadata": {
        "colab": {
          "base_uri": "https://localhost:8080/"
        },
        "id": "jymZ6MomWgNT",
        "outputId": "6cc6f56a-b78a-4c16-867f-10a2d2b53344"
      },
      "execution_count": 12,
      "outputs": [
        {
          "output_type": "stream",
          "name": "stdout",
          "text": [
            "Original Text: \n",
            "APIs for manipulating documents loaded into the browser. The most obvious example is the DOM (Document Object Model) API, which allows you to manipulate HTML and CSS — creating, removing and changing HTML, dynamically applying new styles to your page, etc. Every time you see a popup window appear on a page or some new content displayed, for example, that's the DOM in action. Find out more about these types of API in Manipulating documents.\n",
            "Count:443\n",
            "\n",
            "Lemmatized Sentence : \n",
            "APIs for manipulating document loaded into the browser . The most obvious example is the DOM ( Document Object Model ) API , which allows you to manipulate HTML and CSS — creating , removing and changing HTML , dynamically applying new style to your page , etc . Every time you see a popup window appear on a page or some new content displayed , for example , that 's the DOM in action . Find out more about these type of API in Manipulating document .\n",
            "Count:452\n",
            "\n"
          ]
        }
      ]
    },
    {
      "cell_type": "code",
      "source": [
        "from nltk.stem import WordNetLemmatizer\n",
        "from nltk.tokenize import word_tokenize\n",
        "\n",
        "wordnet_lemmat = WordNetLemmatizer()\n",
        "\n",
        "def lemmatizer(para):\n",
        "    lemmatLst = []\n",
        "    tokenLst = word_tokenize(para)\n",
        "    for token in tokenLst:\n",
        "        if token != wordnet_lemmat.lemmatize(token):\n",
        "            print(wordnet_lemmat.lemmatize(token))\n",
        "lemmatizer(text)"
      ],
      "metadata": {
        "colab": {
          "base_uri": "https://localhost:8080/"
        },
        "id": "8TL9xHMRWrUb",
        "outputId": "8c7df247-24dc-4f93-cc23-e99d057d3542"
      },
      "execution_count": 14,
      "outputs": [
        {
          "output_type": "stream",
          "name": "stdout",
          "text": [
            "document\n",
            "style\n",
            "type\n",
            "document\n"
          ]
        }
      ]
    }
  ]
}
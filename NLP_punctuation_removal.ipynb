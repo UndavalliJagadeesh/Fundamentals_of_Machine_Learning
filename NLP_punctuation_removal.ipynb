{
  "nbformat": 4,
  "nbformat_minor": 0,
  "metadata": {
    "colab": {
      "name": "NLP_punctuation_removal.ipynb",
      "provenance": [],
      "collapsed_sections": [],
      "authorship_tag": "ABX9TyOuUoEj8DIsBb0uK2Bm1maK",
      "include_colab_link": true
    },
    "kernelspec": {
      "name": "python3",
      "display_name": "Python 3"
    },
    "language_info": {
      "name": "python"
    }
  },
  "cells": [
    {
      "cell_type": "markdown",
      "metadata": {
        "id": "view-in-github",
        "colab_type": "text"
      },
      "source": [
        "<a href=\"https://colab.research.google.com/github/UndavalliJagadeesh/Fundamentals_of_Machine_Learning/blob/main/NLP_punctuation_removal.ipynb\" target=\"_parent\"><img src=\"https://colab.research.google.com/assets/colab-badge.svg\" alt=\"Open In Colab\"/></a>"
      ]
    },
    {
      "cell_type": "code",
      "execution_count": 1,
      "metadata": {
        "id": "vwr_qAVHaRu3"
      },
      "outputs": [],
      "source": [
        "text = 'Natural language processing (NLP) refers to the branch of computer science—and more specifically, the branch of artificial intelligence or AI—concerned with giving computers the ability to understand text and spoken words in much the same way human beings can.'"
      ]
    },
    {
      "cell_type": "code",
      "source": [
        "#removing punctuations\n",
        "\n",
        "import re\n",
        "def punchRem(para):\n",
        "    words = re.findall('[\\w]+',para)\n",
        "    return ' '.join(words)\n",
        "print('Original Text: \\n{0}\\nCount:{1}\\n'.format(text,len(text)))\n",
        "print('Required Output: \\n{0}\\nCount:{1}\\n'.format(punchRem(text),len(punchRem(text))))"
      ],
      "metadata": {
        "colab": {
          "base_uri": "https://localhost:8080/"
        },
        "id": "LXbctL1za-J6",
        "outputId": "553da12b-b715-444f-bb22-74b3d1b9cce1"
      },
      "execution_count": 2,
      "outputs": [
        {
          "output_type": "stream",
          "name": "stdout",
          "text": [
            "Original Text: \n",
            "Natural language processing (NLP) refers to the branch of computer science—and more specifically, the branch of artificial intelligence or AI—concerned with giving computers the ability to understand text and spoken words in much the same way human beings can.\n",
            "Count:260\n",
            "\n",
            "Required Output: \n",
            "Natural language processing NLP refers to the branch of computer science and more specifically the branch of artificial intelligence or AI concerned with giving computers the ability to understand text and spoken words in much the same way human beings can\n",
            "Count:256\n",
            "\n"
          ]
        }
      ]
    },
    {
      "cell_type": "code",
      "source": [
        "def punchRem(para):\n",
        "    ref=\"',./;'\\()[]{}:\\\"|<>?`!&-_\"\n",
        "    res=''\n",
        "    for i in para:\n",
        "        if i not in ref:\n",
        "            res+=i\n",
        "    return res\n",
        "print('Original Text: \\n{0}\\nCount:{1}\\n'.format(text,len(text)))\n",
        "print('Required Output: \\n{0}\\nCount:{1}\\n'.format(punchRem(text),len(punchRem(text))))"
      ],
      "metadata": {
        "colab": {
          "base_uri": "https://localhost:8080/"
        },
        "id": "wkPA_oLGbF0o",
        "outputId": "ddf98100-b580-42cb-af2b-0ea5978a5032"
      },
      "execution_count": 3,
      "outputs": [
        {
          "output_type": "stream",
          "name": "stdout",
          "text": [
            "Original Text: \n",
            "Natural language processing (NLP) refers to the branch of computer science—and more specifically, the branch of artificial intelligence or AI—concerned with giving computers the ability to understand text and spoken words in much the same way human beings can.\n",
            "Count:260\n",
            "\n",
            "Required Output: \n",
            "Natural language processing NLP refers to the branch of computer science—and more specifically the branch of artificial intelligence or AI—concerned with giving computers the ability to understand text and spoken words in much the same way human beings can\n",
            "Count:256\n",
            "\n"
          ]
        }
      ]
    }
  ]
}